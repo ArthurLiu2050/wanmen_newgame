{
 "cells": [
  {
   "cell_type": "code",
   "execution_count": 2,
   "metadata": {},
   "outputs": [
    {
     "name": "stdout",
     "output_type": "stream",
     "text": [
      "this is the 3rd line. \\n this is also the 3rd line.\n"
     ]
    }
   ],
   "source": [
    "print(\"this is the 3rd line. \\\\n \"\n",
    "     \"this is also the 3rd line.\")"
   ]
  },
  {
   "cell_type": "code",
   "execution_count": 74,
   "metadata": {},
   "outputs": [
    {
     "ename": "SyntaxError",
     "evalue": "invalid syntax (<ipython-input-74-1e145a47136f>, line 3)",
     "output_type": "error",
     "traceback": [
      "\u001b[1;36m  File \u001b[1;32m\"<ipython-input-74-1e145a47136f>\"\u001b[1;36m, line \u001b[1;32m3\u001b[0m\n\u001b[1;33m    print s1.join([s2.join([\"%s*%s=%2s\" % (y,x,x*y) for y in range(1,x+1)]) for x range(1,10)])\u001b[0m\n\u001b[1;37m           ^\u001b[0m\n\u001b[1;31mSyntaxError\u001b[0m\u001b[1;31m:\u001b[0m invalid syntax\n"
     ]
    }
   ],
   "source": [
    "s1 = \"\\n\"\n",
    "s2 = \" \"\n",
    "print s1.join([s2.join([\"%s*%s=%2s\" % (y,x,x*y) for y in range(1,x+1)]) for x range(1,10)])"
   ]
  },
  {
   "cell_type": "code",
   "execution_count": 13,
   "metadata": {},
   "outputs": [
    {
     "name": "stdout",
     "output_type": "stream",
     "text": [
      "Hello,\n",
      "#hoho, \n",
      "world\n"
     ]
    }
   ],
   "source": [
    "print(\"\"\"Hello,\n",
    "#hoho, \n",
    "world\"\"\")"
   ]
  },
  {
   "cell_type": "code",
   "execution_count": 19,
   "metadata": {},
   "outputs": [
    {
     "name": "stdout",
     "output_type": "stream",
     "text": [
      "Hello,      world\n"
     ]
    }
   ],
   "source": [
    "print(\"Hello,\\\n",
    "      world\")"
   ]
  },
  {
   "cell_type": "code",
   "execution_count": 89,
   "metadata": {},
   "outputs": [
    {
     "name": "stdout",
     "output_type": "stream",
     "text": [
      "math.floor\n"
     ]
    }
   ],
   "source": [
    "print(\"math.floor\")"
   ]
  },
  {
   "cell_type": "code",
   "execution_count": 45,
   "metadata": {},
   "outputs": [
    {
     "name": "stdout",
     "output_type": "stream",
     "text": [
      "1*1=1  1*1=1  1*1=1  \n",
      "1*1=1  1*1=1  1*1=1  \n",
      "1*1=1  1*1=1  1*1=1  \n"
     ]
    }
   ],
   "source": [
    " for i in range(1,4):\n",
    "    for j in range(1,4):\n",
    "         print(\"%1d*%1d=%s \" % \n",
    "               #(i,j,i*j),\n",
    "               (1,1,1),end=\" \")\n",
    "    print(\"\")"
   ]
  },
  {
   "cell_type": "code",
   "execution_count": 68,
   "metadata": {},
   "outputs": [
    {
     "ename": "SyntaxError",
     "evalue": "invalid syntax (<ipython-input-68-34a96fdabff7>, line 3)",
     "output_type": "error",
     "traceback": [
      "\u001b[1;36m  File \u001b[1;32m\"<ipython-input-68-34a96fdabff7>\"\u001b[1;36m, line \u001b[1;32m3\u001b[0m\n\u001b[1;33m    print str.join(seq)\u001b[0m\n\u001b[1;37m            ^\u001b[0m\n\u001b[1;31mSyntaxError\u001b[0m\u001b[1;31m:\u001b[0m invalid syntax\n"
     ]
    }
   ],
   "source": [
    "str = \"-\"\n",
    "seq = \"Good\" # 字符串序列\n",
    "print str.join(seq)"
   ]
  },
  {
   "cell_type": "code",
   "execution_count": 55,
   "metadata": {},
   "outputs": [
    {
     "ename": "SyntaxError",
     "evalue": "invalid syntax (<ipython-input-55-f5bb14c1606f>, line 2)",
     "output_type": "error",
     "traceback": [
      "\u001b[1;36m  File \u001b[1;32m\"<ipython-input-55-f5bb14c1606f>\"\u001b[1;36m, line \u001b[1;32m2\u001b[0m\n\u001b[1;33m    print ' '.join(seq1)\u001b[0m\n\u001b[1;37m            ^\u001b[0m\n\u001b[1;31mSyntaxError\u001b[0m\u001b[1;31m:\u001b[0m invalid syntax\n"
     ]
    }
   ],
   "source": [
    "seq1 = ['hello','good','boy','doiido']\n",
    "print ' '.join(seq1)\n",
    "# hello good boy doiido\n",
    "print ':'.join(seq1)\n",
    "# hello:good:boy:doiido"
   ]
  },
  {
   "cell_type": "code",
   "execution_count": 76,
   "metadata": {},
   "outputs": [
    {
     "name": "stdout",
     "output_type": "stream",
     "text": [
      "H-e-l-l-o\n",
      "Hello\n"
     ]
    }
   ],
   "source": [
    "s1 = \"-\"\n",
    "s2 = \"\"\n",
    "# seq = (\"r\", \"u\", \"n\", \"o\", \"o\", \"b\") # 字符串序列\n",
    "seq = (\"Hello\")\n",
    "print (s1.join( seq ))\n",
    "print (s2.join( seq ))"
   ]
  },
  {
   "cell_type": "code",
   "execution_count": 82,
   "metadata": {},
   "outputs": [
    {
     "data": {
      "text/plain": [
       "float"
      ]
     },
     "execution_count": 82,
     "metadata": {},
     "output_type": "execute_result"
    }
   ],
   "source": [
    "a=128.123\n",
    "type(a)"
   ]
  },
  {
   "cell_type": "code",
   "execution_count": 85,
   "metadata": {},
   "outputs": [
    {
     "data": {
      "text/plain": [
       "5"
      ]
     },
     "execution_count": 85,
     "metadata": {},
     "output_type": "execute_result"
    }
   ],
   "source": [
    "a=3\n",
    "a+=2\n",
    "a"
   ]
  },
  {
   "cell_type": "code",
   "execution_count": 96,
   "metadata": {},
   "outputs": [
    {
     "name": "stdout",
     "output_type": "stream",
     "text": [
      "3.141592653589793\n",
      "2.718281828459045\n",
      "98\n",
      "99\n",
      "8.0\n",
      "8\n",
      "5.0\n"
     ]
    }
   ],
   "source": [
    "#math function exercise\n",
    "import math\n",
    "print(math.pi)\n",
    "print(math.e)\n",
    "print(math.floor(98.6))\n",
    "print(math.ceil(98.4))\n",
    "print(math.pow(2,3))\n",
    "print (2**3)\n",
    "print(math.sqrt(25))"
   ]
  },
  {
   "cell_type": "code",
   "execution_count": 114,
   "metadata": {},
   "outputs": [
    {
     "data": {
      "text/plain": [
       "True"
      ]
     },
     "execution_count": 114,
     "metadata": {},
     "output_type": "execute_result"
    }
   ],
   "source": [
    "#Boolean\n",
    "#type(1<2)\n",
    "#1>0\n",
    "#(2>1) or (2>3)\n",
    "#not (1>0)\n",
    "#a=(2>1) and (1>0)\n",
    "#a\n",
    "type(a)\n",
    "a=(1==2)\n",
    "a\n",
    "a=(1!=2)\n",
    "a"
   ]
  },
  {
   "cell_type": "code",
   "execution_count": 172,
   "metadata": {},
   "outputs": [
    {
     "name": "stdout",
     "output_type": "stream",
     "text": [
      "HaHaHaHe\n",
      "98.6\n"
     ]
    },
    {
     "data": {
      "text/plain": [
       "'l'"
      ]
     },
     "execution_count": 172,
     "metadata": {},
     "output_type": "execute_result"
    }
   ],
   "source": [
    "#String Combine & Duplicate\n",
    "laugh=3*\"Ha\" + \"He\"\n",
    "print (laugh)\n",
    "\"1\"+\"8\"\n",
    "a=str(98.6)\n",
    "print (a)\n",
    "type(a)\n",
    "#String Extract&Slice\n",
    "letters = 'abcdefg hijkmnopqrstuvwxyz'\n",
    "letters[0]\n",
    "letters[5]\n",
    "len(letters)\n",
    "letters[-1]\n",
    "letters[len(letters)-1]\n",
    "#letters[start:end;step]\n",
    "letters[0:2]#Started from letters[0] -a ended with letters[1]-b not include letters[2]-c\n",
    "#use Chinese\n",
    "letters = \"我爱上海浦东\"\n",
    "letters[2]\n",
    "letters[2::2]\n",
    "letters[::-1] #转逆序\n",
    "#String Split&Combine\n",
    "lan = \"Python ruby c c++ swift\"\n",
    "lan.split()\n",
    "todos = \"download python.install, download ide, learn\"\n",
    "#todos.split(',')\n",
    "#todos.split(',',maxsplit=1)\n",
    "'??'.join(['download python.install', ' download ide, learn']) #??为分隔符\n",
    "#String Substitute\n",
    "s='I like C, I like C++, I like java, I love Python'\n",
    "s.replace('like','hate')\n",
    "s.replace('like','hate',1)#替换第一个“Like”\n",
    "#String layout\n",
    "align ='learn how to align'\n",
    "align.center(30)\n",
    "align.ljust(50)\n",
    "align.rjust(50)\n",
    "#Other useful tools\n",
    "py_desc='Python Description: Python is a programming language that lets you work quickly and integrates system more effectively'\n",
    "py_desc.startswith('Python') #句子以什么开始\n",
    "py_desc.endswith('effectively') #句子以什么结束\n",
    "py_desc.find('language')#在句子中找到第一个'language'的开始的位置\n",
    "py_desc[44]\n",
    "#py_desc.isalnum()"
   ]
  },
  {
   "cell_type": "code",
   "execution_count": null,
   "metadata": {
    "collapsed": true
   },
   "outputs": [],
   "source": []
  }
 ],
 "metadata": {
  "kernelspec": {
   "display_name": "Python 3",
   "language": "python",
   "name": "python3"
  },
  "language_info": {
   "codemirror_mode": {
    "name": "ipython",
    "version": 3
   },
   "file_extension": ".py",
   "mimetype": "text/x-python",
   "name": "python",
   "nbconvert_exporter": "python",
   "pygments_lexer": "ipython3",
   "version": "3.6.3"
  }
 },
 "nbformat": 4,
 "nbformat_minor": 2
}
