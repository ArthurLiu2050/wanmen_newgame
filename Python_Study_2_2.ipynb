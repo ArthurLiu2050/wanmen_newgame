{
 "cells": [
  {
   "cell_type": "code",
   "execution_count": 17,
   "metadata": {},
   "outputs": [
    {
     "data": {
      "text/plain": [
       "'Python Description: Python Is A Programming Language That Lets You Work Quickly And Integrates System More Effectively.'"
      ]
     },
     "execution_count": 17,
     "metadata": {},
     "output_type": "execute_result"
    }
   ],
   "source": [
    "#Other useful tools\n",
    "py_desc='Python Description: Python is a programming language that lets you work quickly and integrates system more effectively.'\n",
    "py_desc.startswith('Python') #句子以什么开始\n",
    "py_desc.endswith('effectively') #句子以什么结束\n",
    "py_desc.find('language')#在句子中找到第一个'language'的开始的位置\n",
    "py_desc[44]\n",
    "#py_desc.isalnum()\n",
    "py_desc[:44]\n",
    "py_desc[:py_desc.find('language')]\n",
    "all_num = '123456789p'\n",
    "all_num.isalnum() #只含有数字或者字母组合反馈为True，如有特殊符号或者空格，则变成False\n",
    "py_desc.count('Python')#统计单词或字母出现的词频\n",
    "py_desc.strip('.')#去头和尾的点或者其它特殊字符\n",
    "#py_desc.upper()#全部变成大写\n",
    "py_desc.title()#每个单词第一个字母大写"
   ]
  },
  {
   "cell_type": "code",
   "execution_count": 2,
   "metadata": {},
   "outputs": [
    {
     "name": "stdout",
     "output_type": "stream",
     "text": [
      "What is your name?\n",
      "Arthur\n",
      "How old are you?\n",
      "50\n",
      "You are Arthur and 50 years old\n"
     ]
    }
   ],
   "source": [
    "## in and out\n",
    "# Read user input# 注意Python2 (raw_input) 和 Python3(input)的区别\n",
    "name = input('What is your name?\\n')\n",
    "age = input('How old are you?\\n')\n",
    "print('You are %s and %s years old'%(name,age))"
   ]
  },
  {
   "cell_type": "code",
   "execution_count": 16,
   "metadata": {},
   "outputs": [
    {
     "name": "stdout",
     "output_type": "stream",
     "text": [
      "One Two\n",
      "PPT Word\n",
      "1 2\n",
      "5 6\n",
      "3 4\n",
      "4 3\n"
     ]
    }
   ],
   "source": [
    "#New style in Python 3.6\n",
    "print('%s %s'% ('One','Two')) # %s为字符类型\n",
    "print('{} {}'.format ('PPT','Word'))\n",
    "print('%d %d'% (1,2)) # %d是数字类型\n",
    "print('{} {}'.format (5,6))\n",
    "print('{Third} {Fourth}'.format (Third=3,Fourth=4))\n",
    "print('{Third} {Fourth}'.format (Fourth=3,Third=4))"
   ]
  },
  {
   "cell_type": "code",
   "execution_count": 21,
   "metadata": {},
   "outputs": [
    {
     "name": "stdout",
     "output_type": "stream",
     "text": [
      "5+6 is 11 not 30\n"
     ]
    }
   ],
   "source": [
    "#New Feature\n",
    "a=5\n",
    "b=6\n",
    "print(f'5+6 is {a+b} not {a*b}')# 使用 f''功能和{}使变量在输出过程中进行值的计算"
   ]
  },
  {
   "cell_type": "code",
   "execution_count": null,
   "metadata": {
    "collapsed": true
   },
   "outputs": [],
   "source": [
    "#Function函数\n"
   ]
  }
 ],
 "metadata": {
  "kernelspec": {
   "display_name": "Python 3",
   "language": "python",
   "name": "python3"
  },
  "language_info": {
   "codemirror_mode": {
    "name": "ipython",
    "version": 3
   },
   "file_extension": ".py",
   "mimetype": "text/x-python",
   "name": "python",
   "nbconvert_exporter": "python",
   "pygments_lexer": "ipython3",
   "version": "3.6.3"
  }
 },
 "nbformat": 4,
 "nbformat_minor": 2
}
